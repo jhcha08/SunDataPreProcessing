{
 "cells": [
  {
   "cell_type": "code",
   "execution_count": 39,
   "metadata": {},
   "outputs": [],
   "source": [
    "import os\n",
    "import shutil\n",
    "\n",
    "path1 = 'E:\\\\aia\\\\aia_2010' # 1시간 간격의 He 이미지 파일이 들어갈 폴더\n",
    "\n",
    "for i in range(16, 21):\n",
    "    \n",
    "    file_list = os.listdir('E:\\\\aia\\\\07\\\\%02d' % i)\n",
    "    file_list2 = ['E:\\\\aia\\\\07\\\\%02d\\\\' % i + item for item in file_list]\n",
    "\n",
    "    for i in range(0,len(file_list)):\n",
    "        if int(file_list[i][22:24]) == 0:\n",
    "            shutil.copy(file_list2[i], path1)"
   ]
  },
  {
   "cell_type": "code",
   "execution_count": null,
   "metadata": {},
   "outputs": [],
   "source": []
  }
 ],
 "metadata": {
  "kernelspec": {
   "display_name": "Python 3",
   "language": "python",
   "name": "python3"
  },
  "language_info": {
   "codemirror_mode": {
    "name": "ipython",
    "version": 3
   },
   "file_extension": ".py",
   "mimetype": "text/x-python",
   "name": "python",
   "nbconvert_exporter": "python",
   "pygments_lexer": "ipython3",
   "version": "3.7.4"
  }
 },
 "nbformat": 4,
 "nbformat_minor": 2
}
