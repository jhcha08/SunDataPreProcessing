{
 "cells": [
  {
   "cell_type": "code",
   "execution_count": 1,
   "metadata": {},
   "outputs": [],
   "source": [
    "import zipfile\n",
    " \n",
    "# 압축 파일을 읽어들일 파일의 절대 경로\n",
    "for i in range (1, 13):\n",
    "    with zipfile.ZipFile('D:\\\\%02d.zip' % i, 'r') as myZip:\n",
    "        \n",
    "      # zip파일로 부터 파일 리스트를 받는다 (zip 파일 내의 절대경로)\n",
    "      for filename in myZip.namelist():\n",
    "        \n",
    "        # 조건에 맞는 파일들을 압축 해제한다 (1시간 간격)\n",
    "        if len(filename) > 7:\n",
    "            # [28:30]은 분, [31:33]이 초 단위를 말하는건데, 1시간중에서도 초가 09나 10일때를 뽑음\n",
    "            if int(filename[28:30]) == 0 and int(filename[31:33]) == 10: \n",
    "                myZip.extract(filename, path='D:\\\\aia') "
   ]
  },
  {
   "cell_type": "code",
   "execution_count": null,
   "metadata": {},
   "outputs": [],
   "source": []
  }
 ],
 "metadata": {
  "kernelspec": {
   "display_name": "Python 3",
   "language": "python",
   "name": "python3"
  },
  "language_info": {
   "codemirror_mode": {
    "name": "ipython",
    "version": 3
   },
   "file_extension": ".py",
   "mimetype": "text/x-python",
   "name": "python",
   "nbconvert_exporter": "python",
   "pygments_lexer": "ipython3",
   "version": "3.7.4"
  }
 },
 "nbformat": 4,
 "nbformat_minor": 2
}
