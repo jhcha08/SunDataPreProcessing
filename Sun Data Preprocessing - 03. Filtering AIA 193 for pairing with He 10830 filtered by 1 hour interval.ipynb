{
 "cells": [
  {
   "cell_type": "code",
   "execution_count": 2,
   "metadata": {},
   "outputs": [],
   "source": [
    "import os\n",
    "import shutil\n",
    "\n",
    "# he 시간에 맞춰서 aia 데이터 따로 복사하기 (AIA 데이터 수 > He 데이터 수라서 1시간 간격의 He에 맞춰서 AIA를 골라내야함)\n",
    "\n",
    "aia_file_list = os.listdir('E:\\\\deep_learning_data\\\\aia_2011_c')\n",
    "aia_file_list2 = ['E:\\\\deep_learning_data\\\\aia_2011_c\\\\' + item for item in aia_file_list]\n",
    "\n",
    "he_file_list = os.listdir('E:\\\\deep_learning_data\\\\he_2011_1hr')\n",
    "he_file_list2 = ['E:\\\\deep_learning_data\\\\he_2011_1hr\\\\' + item for item in he_file_list]\n",
    "\n",
    "# aia 20120411.1900 ~ 2200 데이터 4개 없어서 he에서도 없앰, 그리고 20121022.2401로 표시된 것도 하나 없앰, 서로 총 1771개\n",
    "\n",
    "path0 = 'E:\\\\deep_learning_data\\\\aia_2011_1hr_c'\n",
    "\n",
    "for i in range(0,len(he_file_list)):\n",
    "    for j in range(0,len(aia_file_list)):\n",
    "        if he_file_list[i][0:8] == aia_file_list[j][8:18].replace('-',''): # 년월일 \n",
    "            if he_file_list[i][9:11] == aia_file_list[j][19:21] and he_file_list[i][11:13] == aia_file_list[j][22:24]: # 0100 = 0100 같은거면 복사\n",
    "                shutil.copy(aia_file_list2[j], path0)\n",
    "            elif int(he_file_list[i][9:11])+1 == int(aia_file_list[j][19:21]) and int(he_file_list[i][11:13])-59 == int(aia_file_list[j][22:24]): # 0159 = 0200 같은거면 복사\n",
    "                shutil.copy(aia_file_list2[j], path0)\n",
    "            elif he_file_list[i][9:11] == aia_file_list[j][19:21] and int(he_file_list[i][11:13])-1 == int(aia_file_list[j][22:24]): # 0101 = 0100 같은거면 복사 \n",
    "                shutil.copy(aia_file_list2[j], path0)\n",
    "            elif he_file_list[i][9:11] == aia_file_list[j][19:21] and int(he_file_list[i][11:13])-2 == int(aia_file_list[j][22:24]): # 0102 = 0100 같은거면 복사\n",
    "                shutil.copy(aia_file_list2[j], path0)\n",
    "        elif int(he_file_list[i][0:8])+1 == int(aia_file_list[j][8:18].replace('-','')) and int(he_file_list[i][9:13]) == 2359 and int(aia_file_list[j][18:24].replace('-','')) == 0:\n",
    "                shutil.copy(aia_file_list2[j], path0) # 날짜 바뀌는 거 고려, 월 바뀌는 건 수동으로 (0201.0002 = 0131.2359 같은 거)"
   ]
  },
  {
   "cell_type": "code",
   "execution_count": null,
   "metadata": {},
   "outputs": [],
   "source": []
  }
 ],
 "metadata": {
  "kernelspec": {
   "display_name": "Python 3",
   "language": "python",
   "name": "python3"
  },
  "language_info": {
   "codemirror_mode": {
    "name": "ipython",
    "version": 3
   },
   "file_extension": ".py",
   "mimetype": "text/x-python",
   "name": "python",
   "nbconvert_exporter": "python",
   "pygments_lexer": "ipython3",
   "version": "3.7.4"
  }
 },
 "nbformat": 4,
 "nbformat_minor": 2
}
