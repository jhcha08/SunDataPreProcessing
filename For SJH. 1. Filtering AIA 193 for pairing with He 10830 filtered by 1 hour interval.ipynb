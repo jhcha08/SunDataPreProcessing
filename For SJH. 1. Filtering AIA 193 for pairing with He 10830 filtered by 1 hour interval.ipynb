{
 "cells": [
  {
   "cell_type": "markdown",
   "metadata": {},
   "source": [
    "이미 1시간 단위로 걸러진 He 데이터에 맞추어서 AIA 데이터도 복사해서 따로 저장하는 코드 \n",
    "(이때 aia는 1시간 간격으로 걸러진 것, ex. aia에는 4월 6일 1시, 2시, 3시 데이터 다 있는데 he에는 4월 6일 1시만 있고 그 다음이 3시일 수 있음 -> 그러면 aia에서 4월 6일 1시,3시 데이터만 따로 복사함)\n",
    "\n",
    "그러니까 1시간 단위로 걸러진 He 데이터들이 들어있는 파일도 필요함... 이건 네 하드에 넣어줄게\n",
    "\n",
    "아래에 복잡하게 되어있는 코드는 파일 이름에서 서로 같은 시간대인지 아닌지를 판정하는 코드고 맞으면 그 aia 파일을 복사해서 다른 폴더에 넣어주는 기능\n",
    "\n",
    "그리고 he 파일이 있는데 그에 해당하는 aia 파일은 없을수도 있어. 근데 그런 경우는 해보니까 별로 없어서 그냥 수동으로 걸러냈어..\n",
    "사실 만들면 되긴 하는데 굳이 그렇게 해야되나 싶어서..?? 필요하면 직접 만들어보도록 ㅎㅎㅎ\n",
    "\n",
    "그래서 최종적으로는 두 파일 갯수가 똑같아야 하고 처음과 끝 파일명도 똑같아야겠지?"
   ]
  },
  {
   "cell_type": "code",
   "execution_count": 2,
   "metadata": {},
   "outputs": [],
   "source": [
    "import os\n",
    "import shutil\n",
    "\n",
    "# he 시간에 맞춰서 aia 데이터 따로 복사하는 코드 \n",
    "# (1시간 간격 AIA 데이터 수 > 1시간 간격 He 데이터 수라서 1시간 간격의 He에 맞춰서 AIA를 골라내야함)\n",
    "\n",
    "aia_file_list = os.listdir('E:\\\\deep_learning_data\\\\aia_2011_1hr')\n",
    "aia_file_list2 = ['E:\\\\deep_learning_data\\\\aia_2011_c\\\\' + item for item in aia_file_list]\n",
    "\n",
    "he_file_list = os.listdir('E:\\\\deep_learning_data\\\\he_2011_1hr')\n",
    "he_file_list2 = ['E:\\\\deep_learning_data\\\\he_2011_1hr\\\\' + item for item in he_file_list]\n",
    "\n",
    "path0 = 'E:\\\\deep_learning_data\\\\aia_2011_1hr_c'\n",
    "\n",
    "for i in range(0,len(he_file_list)):\n",
    "    for j in range(0,len(aia_file_list)):\n",
    "        if he_file_list[i][0:8] == aia_file_list[j][8:18].replace('-',''): # 년월일 \n",
    "            if he_file_list[i][9:11] == aia_file_list[j][19:21] and he_file_list[i][11:13] == aia_file_list[j][22:24]: # 0100 = 0100 같은거면 복사\n",
    "                shutil.copy(aia_file_list2[j], path0)\n",
    "            elif int(he_file_list[i][9:11])+1 == int(aia_file_list[j][19:21]) and int(he_file_list[i][11:13])-59 == int(aia_file_list[j][22:24]): # 0159 = 0200 같은거면 복사\n",
    "                shutil.copy(aia_file_list2[j], path0)\n",
    "            elif he_file_list[i][9:11] == aia_file_list[j][19:21] and int(he_file_list[i][11:13])-1 == int(aia_file_list[j][22:24]): # 0101 = 0100 같은거면 복사 \n",
    "                shutil.copy(aia_file_list2[j], path0)\n",
    "            elif he_file_list[i][9:11] == aia_file_list[j][19:21] and int(he_file_list[i][11:13])-2 == int(aia_file_list[j][22:24]): # 0102 = 0100 같은거면 복사\n",
    "                shutil.copy(aia_file_list2[j], path0)\n",
    "        elif int(he_file_list[i][0:8])+1 == int(aia_file_list[j][8:18].replace('-','')) and int(he_file_list[i][9:13]) == 2359 and int(aia_file_list[j][18:24].replace('-','')) == 0:\n",
    "                shutil.copy(aia_file_list2[j], path0) # 날짜 바뀌는 거 고려, 월 바뀌는 건 수동으로 (0201.0002 = 0131.2359 같은 거)"
   ]
  }
 ],
 "metadata": {
  "kernelspec": {
   "display_name": "Python 3",
   "language": "python",
   "name": "python3"
  },
  "language_info": {
   "codemirror_mode": {
    "name": "ipython",
    "version": 3
   },
   "file_extension": ".py",
   "mimetype": "text/x-python",
   "name": "python",
   "nbconvert_exporter": "python",
   "pygments_lexer": "ipython3",
   "version": "3.7.4"
  }
 },
 "nbformat": 4,
 "nbformat_minor": 2
}
