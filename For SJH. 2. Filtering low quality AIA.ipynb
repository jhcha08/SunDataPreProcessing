{
 "cells": [
  {
   "cell_type": "markdown",
   "metadata": {},
   "source": [
    "1시간 간격으로 걸러진 (이거는 애초에 되있어야 함) AIA 데이터 중 저퀄리티의 데이터를 걸러내기 위함. \n",
    "(ex. 망원경 문제 등으로 인해 태양이 까맣게 보임)\n",
    "\n",
    "단, AIA 193에서 저퀄리티였다고 다른 파장대에서까지 저퀄리티인지는 모르겠음... \n",
    "\n",
    "다른 파장대에서도 저퀄리티여야 193에서 맞춰낸 1시간 간격 he 데이터 수랑 맞을거야.\n",
    "\n",
    "안 맞으면 193에 맞춰서 다른 파장대를 삭제해야겠지?? (ex. 4월 6일 11시에 193에선 저퀄인데 304에선 고퀄이면 4월 6일 11시 304를 삭제)"
   ]
  },
  {
   "cell_type": "code",
   "execution_count": 1,
   "metadata": {},
   "outputs": [],
   "source": [
    "import sunpy\n",
    "import os\n",
    "import matplotlib.pyplot as plt\n",
    "%matplotlib inline\n",
    "from astropy.io import fits\n",
    "import sunpy.map\n",
    "\n",
    "# AIA fits 파일 있는 폴더 경로 설정\n",
    "\n",
    "file_list = os.listdir('E:\\\\deep_learning_data\\\\aia_2011_1hr')\n",
    "file_list = ['E:\\\\deep_learning_data\\\\aia_2011_1hr\\\\' + item for item in file_list]\n",
    "\n",
    "# AIA를 open한 것들의 집합인 리스트 만들기\n",
    "\n",
    "open_list = []\n",
    "\n",
    "for i in file_list:\n",
    "    open_list.append(fits.open(i))\n",
    "    \n",
    "# header들의 집합인 리스트 만들기\n",
    "\n",
    "header_list = []\n",
    "\n",
    "for i in range(len(open_list)):\n",
    "    header_list.append(open_list[i][1].header)\n",
    "    \n",
    "# 저퀄인 데이터들의 인덱스 리스트 만들기\n",
    "\n",
    "low_quality_index_list = []\n",
    "\n",
    "for i in range(len(header_list)):\n",
    "    if header_list[i]['QUALITY'] != 0: # aia 데이터의 퀄리티 column이 0이 아니면 저퀄리티라는 뜻\n",
    "        low_quality_index_list.append(i)\n",
    "        \n",
    "# aia 저퀄 데이터를 삭제하고 그에 맞춰서 he 데이터도 삭제\n",
    "# real 파일들은 단순히 1hr 파일들을 복사한 것. 혹시 모르니까 1hr에서 바로 삭제하지 않으려고.\n",
    "\n",
    "aia = os.listdir('E:\\\\deep_learning_data\\\\aia_2011_1hr_real')\n",
    "aia = ['E:\\\\deep_learning_data\\\\aia_2011_1hr_real\\\\' + item for item in aia]\n",
    "\n",
    "he = os.listdir('E:\\\\deep_learning_data\\\\he_2011_1hr_real')\n",
    "he = ['E:\\\\deep_learning_data\\\\he_2011_1hr_real\\\\' + item for item in he]\n",
    "\n",
    "for index in low_quality_index_list:\n",
    "    os.remove(aia[index])\n",
    "    os.remove(he[index])"
   ]
  }
 ],
 "metadata": {
  "kernelspec": {
   "display_name": "Python 3",
   "language": "python",
   "name": "python3"
  },
  "language_info": {
   "codemirror_mode": {
    "name": "ipython",
    "version": 3
   },
   "file_extension": ".py",
   "mimetype": "text/x-python",
   "name": "python",
   "nbconvert_exporter": "python",
   "pygments_lexer": "ipython3",
   "version": "3.7.4"
  }
 },
 "nbformat": 4,
 "nbformat_minor": 2
}
