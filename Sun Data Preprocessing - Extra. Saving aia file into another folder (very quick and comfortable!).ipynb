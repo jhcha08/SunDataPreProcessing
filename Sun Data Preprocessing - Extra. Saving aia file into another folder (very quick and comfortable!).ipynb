{
 "cells": [
  {
   "cell_type": "code",
   "execution_count": null,
   "metadata": {},
   "outputs": [],
   "source": [
    "import os\n",
    "import shutil\n",
    "\n",
    "path1 = 'E:\\\\aia\\\\aia_2011_r' # 1시간 간격의 aia 파일이 들어갈 폴더\n",
    "\n",
    "for i in 1,3,5,7,8,10,12: # 1,3,5,7,8,10,12 : 31일\n",
    "    \n",
    "    for j in range(1, 32):\n",
    "    \n",
    "        file_list = os.listdir('E:\\\\aia\\\\aia_2011\\\\%02d\\\\%02d' % (i,j))\n",
    "        file_list2 = ['E:\\\\aia\\\\aia_2011\\\\%02d\\\\%02d\\\\' % (i,j) + item for item in file_list]\n",
    "        for k in range(0,len(file_list)):\n",
    "            shutil.copy(file_list2[k], path1)\n",
    "\n",
    "for i in 4,6,9,11: # 4,6,9,11 : 30일\n",
    "    \n",
    "    for j in range(1, 31):\n",
    "    \n",
    "        file_list = os.listdir('E:\\\\aia\\\\aia_2011\\\\%02d\\\\%02d' % (i,j))\n",
    "        file_list2 = ['E:\\\\aia\\\\aia_2011\\\\%02d\\\\%02d\\\\' % (i,j) + item for item in file_list]\n",
    "        for k in range(0,len(file_list)):\n",
    "            shutil.copy(file_list2[k], path1)\n",
    "        \n",
    "i = 2 # 2 : 28일\n",
    "    \n",
    "for j in range(1, 29):\n",
    "    \n",
    "    file_list = os.listdir('E:\\\\aia\\\\aia_2011\\\\%02d\\\\%02d' % (i,j))\n",
    "    file_list2 = ['E:\\\\aia\\\\aia_2011\\\\%02d\\\\%02d\\\\' % (i,j) + item for item in file_list]\n",
    "    for k in range(0,len(file_list)):\n",
    "        shutil.copy(file_list2[k], path1)"
   ]
  }
 ],
 "metadata": {
  "kernelspec": {
   "display_name": "Python 3",
   "language": "python",
   "name": "python3"
  },
  "language_info": {
   "codemirror_mode": {
    "name": "ipython",
    "version": 3
   },
   "file_extension": ".py",
   "mimetype": "text/x-python",
   "name": "python",
   "nbconvert_exporter": "python",
   "pygments_lexer": "ipython3",
   "version": "3.7.4"
  }
 },
 "nbformat": 4,
 "nbformat_minor": 2
}
