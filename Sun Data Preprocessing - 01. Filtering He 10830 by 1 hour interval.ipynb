{
 "cells": [
  {
   "cell_type": "code",
   "execution_count": 3,
   "metadata": {},
   "outputs": [],
   "source": [
    "import os\n",
    "import shutil\n",
    "from astropy.io import fits\n",
    "import numpy as np\n",
    "\n",
    "file_list = os.listdir('E:\\\\deep_learning_data\\\\he_2011')  # fits 파일에서 뽑아낸 전체 시간대의 이미지를 넣은 폴더\n",
    "file_list2 = ['E:\\\\deep_learning_data\\\\he_2011\\\\' + item for item in file_list]\n",
    "\n",
    "# He 이미지만 1시간 간격으로 걸러서 새로 저장\n",
    "# shutil.copy: 해당 파일을 지정해 놓은 경로에 저장하는 기능\n",
    "\n",
    "# 복사할 때마다 keras_talk 파일 자체에 이미지 옮겨놔야 함\n",
    "\n",
    "path1 = 'E:\\\\deep_learning_data\\\\he_2011_filtered' # 1시간 간격의 He 이미지 파일이 들어갈 폴더\n",
    "\n",
    "for i in range(0,len(file_list)):\n",
    "    if 0 <= int(file_list[i][11:13]) <= 2:\n",
    "        shutil.copy(file_list2[i], path1)\n",
    "    elif int(file_list[i][11:13]) == 59:\n",
    "        shutil.copy(file_list2[i], path1)\n",
    "        \n"
   ]
  },
  {
   "cell_type": "code",
   "execution_count": 4,
   "metadata": {},
   "outputs": [
    {
     "ename": "IndexError",
     "evalue": "list index out of range",
     "output_type": "error",
     "traceback": [
      "\u001b[1;31m---------------------------------------------------------------------------\u001b[0m",
      "\u001b[1;31mIndexError\u001b[0m                                Traceback (most recent call last)",
      "\u001b[1;32m<ipython-input-4-53eac0f13892>\u001b[0m in \u001b[0;36m<module>\u001b[1;34m\u001b[0m\n\u001b[0;32m      3\u001b[0m \u001b[1;33m\u001b[0m\u001b[0m\n\u001b[0;32m      4\u001b[0m \u001b[1;32mfor\u001b[0m \u001b[0mi\u001b[0m \u001b[1;32min\u001b[0m \u001b[0mrange\u001b[0m\u001b[1;33m(\u001b[0m\u001b[1;36m0\u001b[0m\u001b[1;33m,\u001b[0m\u001b[0mlen\u001b[0m\u001b[1;33m(\u001b[0m\u001b[0mfile_list3\u001b[0m\u001b[1;33m)\u001b[0m\u001b[1;33m)\u001b[0m\u001b[1;33m:\u001b[0m\u001b[1;33m\u001b[0m\u001b[1;33m\u001b[0m\u001b[0m\n\u001b[1;32m----> 5\u001b[1;33m     \u001b[1;32mif\u001b[0m \u001b[0mfile_list3\u001b[0m\u001b[1;33m[\u001b[0m\u001b[0mi\u001b[0m\u001b[1;33m]\u001b[0m\u001b[1;33m[\u001b[0m\u001b[1;36m0\u001b[0m\u001b[1;33m:\u001b[0m\u001b[1;36m8\u001b[0m\u001b[1;33m]\u001b[0m \u001b[1;33m==\u001b[0m \u001b[0mfile_list3\u001b[0m\u001b[1;33m[\u001b[0m\u001b[0mi\u001b[0m\u001b[1;33m+\u001b[0m\u001b[1;36m1\u001b[0m\u001b[1;33m]\u001b[0m\u001b[1;33m[\u001b[0m\u001b[1;36m0\u001b[0m\u001b[1;33m:\u001b[0m\u001b[1;36m8\u001b[0m\u001b[1;33m]\u001b[0m\u001b[1;33m:\u001b[0m\u001b[1;33m\u001b[0m\u001b[1;33m\u001b[0m\u001b[0m\n\u001b[0m\u001b[0;32m      6\u001b[0m         \u001b[1;32mif\u001b[0m \u001b[0mfile_list3\u001b[0m\u001b[1;33m[\u001b[0m\u001b[0mi\u001b[0m\u001b[1;33m]\u001b[0m\u001b[1;33m[\u001b[0m\u001b[1;36m9\u001b[0m\u001b[1;33m:\u001b[0m\u001b[1;36m11\u001b[0m\u001b[1;33m]\u001b[0m \u001b[1;33m==\u001b[0m \u001b[0mfile_list3\u001b[0m\u001b[1;33m[\u001b[0m\u001b[0mi\u001b[0m\u001b[1;33m+\u001b[0m\u001b[1;36m1\u001b[0m\u001b[1;33m]\u001b[0m\u001b[1;33m[\u001b[0m\u001b[1;36m9\u001b[0m\u001b[1;33m:\u001b[0m\u001b[1;36m11\u001b[0m\u001b[1;33m]\u001b[0m\u001b[1;33m:\u001b[0m \u001b[1;31m# 1200과 1201같은 경우\u001b[0m\u001b[1;33m\u001b[0m\u001b[1;33m\u001b[0m\u001b[0m\n\u001b[0;32m      7\u001b[0m             \u001b[1;32mif\u001b[0m \u001b[0mint\u001b[0m\u001b[1;33m(\u001b[0m\u001b[0mfile_list3\u001b[0m\u001b[1;33m[\u001b[0m\u001b[0mi\u001b[0m\u001b[1;33m]\u001b[0m\u001b[1;33m[\u001b[0m\u001b[1;36m11\u001b[0m\u001b[1;33m:\u001b[0m\u001b[1;36m13\u001b[0m\u001b[1;33m]\u001b[0m\u001b[1;33m)\u001b[0m\u001b[1;33m+\u001b[0m\u001b[1;36m1\u001b[0m \u001b[1;33m==\u001b[0m \u001b[0mint\u001b[0m\u001b[1;33m(\u001b[0m\u001b[0mfile_list3\u001b[0m\u001b[1;33m[\u001b[0m\u001b[0mi\u001b[0m\u001b[1;33m+\u001b[0m\u001b[1;36m1\u001b[0m\u001b[1;33m]\u001b[0m\u001b[1;33m[\u001b[0m\u001b[1;36m11\u001b[0m\u001b[1;33m:\u001b[0m\u001b[1;36m13\u001b[0m\u001b[1;33m]\u001b[0m\u001b[1;33m)\u001b[0m\u001b[1;33m:\u001b[0m \u001b[1;31m# 00과 01중 01 지우기\u001b[0m\u001b[1;33m\u001b[0m\u001b[1;33m\u001b[0m\u001b[0m\n",
      "\u001b[1;31mIndexError\u001b[0m: list index out of range"
     ]
    }
   ],
   "source": [
    "file_list3 = os.listdir('E:\\\\deep_learning_data\\\\he_2011_1hr')\n",
    "file_list4 = ['E:\\\\deep_learning_data\\\\he_2011_1hr\\\\' + item for item in file_list3]\n",
    "\n",
    "for i in range(0,len(file_list3)):\n",
    "    if file_list3[i][0:8] == file_list3[i+1][0:8]:\n",
    "        if file_list3[i][9:11] == file_list3[i+1][9:11]: # 1200과 1201같은 경우\n",
    "            if int(file_list3[i][11:13])+1 == int(file_list3[i+1][11:13]): # 00과 01중 01 지우기\n",
    "                os.remove(file_list4[i+1])\n",
    "            elif int(file_list3[i][11:13])+2 == int(file_list3[i+1][11:13]): # 00과 02중 02 지우기\n",
    "                os.remove(file_list4[i+1])\n",
    "        elif int(file_list3[i][9:11])+1 == int(file_list3[i+1][9:11]): # 1259와 1301같은 경우\n",
    "            if int(file_list3[i][11:13])+1 == 60+int(file_list3[i+1][11:13]): # 59와 00 중 59 지우기\n",
    "                os.remove(file_list4[i])\n",
    "            elif int(file_list3[i][11:13])+2 == 60+int(file_list3[i+1][11:13]): # 59와 01중 01 지우기\n",
    "                os.remove(file_list4[i+1])\n",
    "            elif int(file_list3[i][11:13])+3 == 60+int(file_list3[i+1][11:13]): # 59와 02중 02 지우기\n",
    "                os.remove(file_list4[i+1])\n",
    "    if int(file_list3[i][0:8])+1 == int(file_list3[i+1][0:8]):\n",
    "        if int(file_list3[i][9:11])-23 == int(file_list3[i+1][9:11]): # 2359와 0001같은 경우\n",
    "            if int(file_list3[i][11:13])+1 == 60+int(file_list3[i+1][11:13]): # 59와 00 중 59 지우기\n",
    "                os.remove(file_list4[i])\n",
    "            elif int(file_list3[i][11:13])+2 == 60+int(file_list3[i+1][11:13]): # 59와 01중 01 지우기\n",
    "                os.remove(file_list4[i+1])\n",
    "            elif int(file_list3[i][11:13])+3 == 60+int(file_list3[i+1][11:13]): # 59와 02중 02 지우기\n",
    "                os.remove(file_list4[i+1])"
   ]
  },
  {
   "cell_type": "code",
   "execution_count": null,
   "metadata": {},
   "outputs": [],
   "source": []
  }
 ],
 "metadata": {
  "kernelspec": {
   "display_name": "Python 3",
   "language": "python",
   "name": "python3"
  },
  "language_info": {
   "codemirror_mode": {
    "name": "ipython",
    "version": 3
   },
   "file_extension": ".py",
   "mimetype": "text/x-python",
   "name": "python",
   "nbconvert_exporter": "python",
   "pygments_lexer": "ipython3",
   "version": "3.7.4"
  }
 },
 "nbformat": 4,
 "nbformat_minor": 2
}
