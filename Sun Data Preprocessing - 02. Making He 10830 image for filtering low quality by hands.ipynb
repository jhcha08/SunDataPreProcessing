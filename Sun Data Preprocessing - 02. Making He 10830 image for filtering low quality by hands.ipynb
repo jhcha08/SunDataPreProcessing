{
 "cells": [
  {
   "cell_type": "code",
   "execution_count": 1,
   "metadata": {},
   "outputs": [],
   "source": [
    "# 해당 경로에 해당하는 폴더 내부의 파일을 os.listdir을 이용해 리스트 형태로 정리\n",
    "\n",
    "import os\n",
    "from astropy.io import fits\n",
    "import matplotlib.pyplot as plt\n",
    "import matplotlib\n",
    "%matplotlib inline\n",
    "\n",
    "# gz 파일의 압축 먼저 풀고 하기\n",
    "\n",
    "file_list = os.listdir('E:\\deep_learning_data\\he_2011_1hr')\n",
    "\n",
    "path = 'E:\\deep_learning_data\\he_2011_1hr\\\\'\n",
    "\n",
    "# 해당하는 fits파일을 라이브러리 이용해서 열은 후 새로운 리스트에 저장\n",
    "\n",
    "test_list = []\n",
    "\n",
    "for i in range(0,len(file_list)):\n",
    "    test_list.append(fits.open(path + file_list[i]))\n",
    "\n",
    "# fits파일의 성분 중 이미지를 나타내는 성분인 [i][0]들을 뽑아내 새로운 리스트에 저장    \n",
    "\n",
    "image_data = []\n",
    "\n",
    "for i in range(0,len(file_list)):\n",
    "    image_data.append(test_list[i][0])\n",
    "    \n",
    "# 이미지를 나타내는 성분들을 grayscale로 변경 후 실제 이미지 파일로 저장 (keras_talk (로컬) 파일에다가)\n",
    "\n",
    "for i in range(0,len(file_list)):\n",
    "    matplotlib.image.imsave('%s.png' % file_list[i], image_data[i].data, cmap='gray')"
   ]
  },
  {
   "cell_type": "code",
   "execution_count": null,
   "metadata": {},
   "outputs": [],
   "source": []
  }
 ],
 "metadata": {
  "kernelspec": {
   "display_name": "Python 3",
   "language": "python",
   "name": "python3"
  },
  "language_info": {
   "codemirror_mode": {
    "name": "ipython",
    "version": 3
   },
   "file_extension": ".py",
   "mimetype": "text/x-python",
   "name": "python",
   "nbconvert_exporter": "python",
   "pygments_lexer": "ipython3",
   "version": "3.7.4"
  }
 },
 "nbformat": 4,
 "nbformat_minor": 2
}
