{
 "cells": [
  {
   "cell_type": "code",
   "execution_count": null,
   "metadata": {},
   "outputs": [],
   "source": [
    "#  AIA와 He 이미지 합치기\n",
    "\n",
    "import os\n",
    "from imageio import imsave\n",
    "from glob import glob\n",
    "import cv2\n",
    "import numpy as np\n",
    "\n",
    "file_list = os.listdir('/content/drive/My Drive/aia_2012_1hr_real')\n",
    "file_list.sort()\n",
    "file_list = ['/content/drive/My Drive/aia_2012_1hr_real//' + item for item in file_list]\n",
    "\n",
    "he_dir = glob('/content/drive/My Drive/he_2012_image/*')\n",
    "he_dir.sort()\n",
    "aia_dir = glob('/content/drive/My Drive/aia_2012_image/*')\n",
    "aia_dir.sort()\n",
    "\n",
    "def merge(i):\n",
    "  he_img = cv2.imread(he_dir[i],1)\n",
    "  aia_img = cv2.imread(aia_dir[i],1)\n",
    "  result = cv2.hconcat([he_img, aia_img])\n",
    "  imsave('/content/drive/My Drive/merge_2012/merge_%s.png' % file_list[i][51:70],result.astype(np.uint8))\n",
    "\n",
    "for i in range(0,len(he_dir)):\n",
    "  merge(i)\n",
    "  if i % 20 == 0:\n",
    "    print(i) # 진행상황 보기"
   ]
  }
 ],
 "metadata": {
  "kernelspec": {
   "display_name": "Python 3",
   "language": "python",
   "name": "python3"
  },
  "language_info": {
   "codemirror_mode": {
    "name": "ipython",
    "version": 3
   },
   "file_extension": ".py",
   "mimetype": "text/x-python",
   "name": "python",
   "nbconvert_exporter": "python",
   "pygments_lexer": "ipython3",
   "version": "3.7.4"
  }
 },
 "nbformat": 4,
 "nbformat_minor": 2
}
